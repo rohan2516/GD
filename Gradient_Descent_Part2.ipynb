{
 "cells": [
  {
   "cell_type": "code",
   "execution_count": 1,
   "id": "ac8cbf96",
   "metadata": {},
   "outputs": [],
   "source": [
    "import numpy as np\n",
    "import pandas as pd\n",
    "from sklearn import preprocessing as pp"
   ]
  },
  {
   "cell_type": "code",
   "execution_count": 4,
   "id": "5f030257",
   "metadata": {},
   "outputs": [],
   "source": [
    "data = np.loadtxt(\"C:/Users/Rohan/Downloads/0000000000002419_training_ccpp_x_y_train.csv\",delimiter=',',dtype=\"float64\")"
   ]
  },
  {
   "cell_type": "code",
   "execution_count": 5,
   "id": "c0acd9fc",
   "metadata": {},
   "outputs": [],
   "source": [
    "mn=np.zeros((4,1))\n",
    "std=np.zeros((4,1))\n",
    "#Feature Scaling\n",
    "np.std(data[:,3])\n",
    "data[:,3].mean()\n",
    "for i in range(4):\n",
    "    mn[i]=data[:,i].mean()\n",
    "    std[i]=data[:,i].std()\n",
    "    data[:,i]=((data[:,i]-data[:,i].mean())/data[:,i].std())\n",
    "    \n"
   ]
  },
  {
   "cell_type": "code",
   "execution_count": 6,
   "id": "8d371a65",
   "metadata": {},
   "outputs": [],
   "source": [
    "def cost(yp,yt):\n",
    "    return (((yp-yt)**2).sum() * (1/len(yp)))\n",
    "def pred(x,coeff):\n",
    "    (m,n)=x.shape\n",
    "    s=np.zeros(m)\n",
    "    for i in range(m):\n",
    "        xt=x[i,:]\n",
    "        xt=np.append(xt,1)\n",
    "        temp=(coeff*xt).sum()\n",
    "        s[i]=temp\n",
    "    return s\n",
    "def gd(data,alpha,num_iter):\n",
    "    (m,n)=data.shape\n",
    "    x=data[:,0:-1]\n",
    "    y=data[:,-1]\n",
    "    coeff=np.zeros(n)\n",
    "    ones=np.ones((len(x),1))\n",
    "    x_new=np.concatenate((x,ones),axis=1)\n",
    "    for i in range(num_iter):\n",
    "        ct=np.zeros(n)\n",
    "        yp=pred(x,coeff)\n",
    "        x_t=np.transpose(x_new)\n",
    "        y_t=yp-y\n",
    "        coeff = coeff - ((2*alpha)/m)*(np.dot(x_t,y_t))\n",
    "        #print(cost(y,pred(x,coeff)))\n",
    "    return coeff\n",
    "alpha=0.15\n",
    "num_iter=500"
   ]
  },
  {
   "cell_type": "code",
   "execution_count": 18,
   "id": "3f78d293",
   "metadata": {},
   "outputs": [],
   "source": [
    "x_test=np.loadtxt(\"C:/Users/Rohan/Downloads/0000000000002419_test_ccpp_x_test.csv\",delimiter=',',dtype=\"float64\")"
   ]
  },
  {
   "cell_type": "code",
   "execution_count": 19,
   "id": "cf4c6d17",
   "metadata": {},
   "outputs": [],
   "source": [
    "for i in range(4):\n",
    "    x_test[:,i]=(x_test[:,i]-mn[i])/std[i]"
   ]
  },
  {
   "cell_type": "code",
   "execution_count": 20,
   "id": "feea4e3b",
   "metadata": {},
   "outputs": [
    {
     "data": {
      "text/plain": [
       "array([[-1.02742256, -0.96138014,  0.72378329,  1.20446479],\n",
       "       [-1.01136848, -1.25783726, -0.09942787,  0.57331371],\n",
       "       [ 0.97398614,  1.62360048, -1.27807846,  0.39005424],\n",
       "       ...,\n",
       "       [ 0.62748557,  0.93814142, -0.69965107,  1.27284519],\n",
       "       [ 0.51644485, -0.90099073,  0.11685368, -0.54470581],\n",
       "       [ 0.28499852,  0.46914312,  0.95515424,  0.80580707]])"
      ]
     },
     "execution_count": 20,
     "metadata": {},
     "output_type": "execute_result"
    }
   ],
   "source": [
    "x_test"
   ]
  },
  {
   "cell_type": "code",
   "execution_count": 21,
   "id": "2768a98a",
   "metadata": {},
   "outputs": [],
   "source": [
    "coeff=gd(data,alpha,num_iter)"
   ]
  },
  {
   "cell_type": "code",
   "execution_count": 23,
   "id": "1e5d405a",
   "metadata": {},
   "outputs": [],
   "source": [
    "yp=pred(x_test,coeff)"
   ]
  },
  {
   "cell_type": "code",
   "execution_count": 25,
   "id": "1f2e2def",
   "metadata": {},
   "outputs": [],
   "source": [
    "np.savetxt(\"gg.csv\",yp,fmt=\"%.5f\")"
   ]
  }
 ],
 "metadata": {
  "kernelspec": {
   "display_name": "Python 3",
   "language": "python",
   "name": "python3"
  },
  "language_info": {
   "codemirror_mode": {
    "name": "ipython",
    "version": 3
   },
   "file_extension": ".py",
   "mimetype": "text/x-python",
   "name": "python",
   "nbconvert_exporter": "python",
   "pygments_lexer": "ipython3",
   "version": "3.8.8"
  }
 },
 "nbformat": 4,
 "nbformat_minor": 5
}
