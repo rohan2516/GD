{
 "cells": [
  {
   "cell_type": "code",
   "execution_count": 27,
   "id": "bd2975b5",
   "metadata": {},
   "outputs": [],
   "source": [
    "import numpy as np\n",
    "import pandas as pd\n",
    "from sklearn import preprocessing as pp"
   ]
  },
  {
   "cell_type": "code",
   "execution_count": 28,
   "id": "da680ca2",
   "metadata": {},
   "outputs": [],
   "source": [
    "data = np.loadtxt(\"C:/Users/Rohan/Downloads/0000000000002417_training_boston_x_y_train.csv\",delimiter=',')\n",
    "df=pd.DataFrame(data)\n",
    "#Cost Function\n",
    "def cost(yp,yt):\n",
    "    return (((yp-yt)**2).sum() * (1/len(yp)))\n",
    "#Function to make Predictions\n",
    "def pred(x,coeff):\n",
    "    (m,n)=x.shape\n",
    "    s=np.zeros(m)\n",
    "    for i in range(m):\n",
    "        xt=x[i,:]\n",
    "        xt=np.append(xt,1)\n",
    "        temp=(coeff*xt).sum()\n",
    "        s[i]=temp\n",
    "    return s\n",
    "#Function to perform Gradient Descent\n",
    "def gd(data,alpha,num_iter):\n",
    "    (m,n)=data.shape\n",
    "    x=data[:,0:-1]\n",
    "    y=data[:,-1]\n",
    "    coeff=np.zeros(n)\n",
    "    ones=np.ones((len(x),1))\n",
    "    x_new=np.concatenate((x,ones),axis=1)\n",
    "    for i in range(num_iter):\n",
    "        ct=np.zeros(n)\n",
    "        yp=pred(x,coeff)\n",
    "        x_t=np.transpose(x_new)\n",
    "        y_t=yp-y\n",
    "        coeff = coeff - ((2*alpha)/m)*(np.dot(x_t,y_t))\n",
    "        #print(cost(y,pred(x,coeff)))\n",
    "    return coeff\n",
    "alpha=0.15\n",
    "num_iter=1000\n",
    "#Feature Scaling\n",
    "sc=pp.StandardScaler()\n",
    "sc.fit(data[:,0:-1])\n",
    "sc.transform(data[:,0:-1])\n",
    "coeff=gd(data,alpha,num_iter)"
   ]
  },
  {
   "cell_type": "code",
   "execution_count": 29,
   "id": "1151a729",
   "metadata": {},
   "outputs": [],
   "source": [
    "x_test=np.loadtxt(\"C:/Users/Rohan/Downloads/0000000000002417_test_boston_x_test.csv\",delimiter=',')\n",
    "sc.transform(x_test)\n",
    "y_pred=pred(x_test,coeff)\n",
    "y_p=np.array(y_pred)"
   ]
  },
  {
   "cell_type": "code",
   "execution_count": 25,
   "id": "05375b2a",
   "metadata": {},
   "outputs": [],
   "source": [
    "np.savetxt(\"project1_part1.csv\",y_p,fmt=\"%.5f\")"
   ]
  },
  {
   "cell_type": "code",
   "execution_count": 30,
   "id": "7c481c2b",
   "metadata": {},
   "outputs": [
    {
     "data": {
      "text/plain": [
       "array([12.43328344, 29.03367318, 22.37164455, 24.47778655, 20.60166977,\n",
       "        2.72533175, 30.40000409, 24.86120042, 18.65724977, 23.53985837,\n",
       "       24.11396872, 17.71143854, 17.44000298, 21.65356278, 42.31137694,\n",
       "       23.84974493, 24.47573232, 27.53872655, 20.23606694, 31.15155454,\n",
       "       23.78237905, 25.00979443, 33.95768541, 36.43515649, 32.04098329,\n",
       "       16.71322632, 23.47176611, 32.93828009, 25.1807008 , 33.71008685,\n",
       "       16.88580202, 26.02760837, 23.27040025, 25.47758968, 15.00946631,\n",
       "       29.5857494 , 26.24821245, 20.37245654, 24.43681498,  9.44706894,\n",
       "        8.38096654, 29.01392345, 29.59085403, 19.7575697 , 20.3719679 ,\n",
       "        3.14442625, 39.52420118, 25.71741222, 30.37729627, 16.79453264,\n",
       "       17.89088652, 41.02574533, 17.57238787, 20.89662584, 15.59837696,\n",
       "       21.41394912, 18.4543645 , 23.15576391, 13.67245022, 17.23573882,\n",
       "       15.02710365, 29.15131353, 25.17166387, 25.49749375, 17.21186687,\n",
       "       17.42936995, 34.70372763, 17.01340803, 27.10724289, 22.54695733,\n",
       "       29.25336918, 27.11018136, 17.73402192,  5.74704758, 36.87653876,\n",
       "       25.09193905, 30.15053651, 27.24080949, 16.2521844 , 32.63542161,\n",
       "       19.2735139 , 22.65416762, 22.22935077,  8.55084956, 17.33054362,\n",
       "       29.17591713, 27.20836198,  5.88576932, 21.91465625, 20.1154985 ,\n",
       "       22.17673963, 20.52700516, 20.85181227, 13.18132049, 19.69404919,\n",
       "       25.9866677 , 40.27067742, 19.77706447, 33.70256573, 27.22074149,\n",
       "       28.74517137, 22.11543887, 25.9135196 , 31.30678414, 17.15297459,\n",
       "       26.37137846, 21.44656977, 36.73924504, 22.08272915, 16.70906176,\n",
       "       27.59458133, -0.05974722, 13.86188046, 16.28772152, 35.77134424,\n",
       "       20.85214459, 20.77286833, 25.35136054, 21.78782121, 18.84720303,\n",
       "       13.5148908 , 35.61958302, 23.09139597, 25.01812898, 17.46493171,\n",
       "       20.73709865, 14.72993727])"
      ]
     },
     "execution_count": 30,
     "metadata": {},
     "output_type": "execute_result"
    }
   ],
   "source": [
    "y_p"
   ]
  }
 ],
 "metadata": {
  "kernelspec": {
   "display_name": "Python 3",
   "language": "python",
   "name": "python3"
  },
  "language_info": {
   "codemirror_mode": {
    "name": "ipython",
    "version": 3
   },
   "file_extension": ".py",
   "mimetype": "text/x-python",
   "name": "python",
   "nbconvert_exporter": "python",
   "pygments_lexer": "ipython3",
   "version": "3.8.8"
  }
 },
 "nbformat": 4,
 "nbformat_minor": 5
}
